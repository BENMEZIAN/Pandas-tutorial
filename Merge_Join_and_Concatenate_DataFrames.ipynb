{
  "nbformat": 4,
  "nbformat_minor": 0,
  "metadata": {
    "colab": {
      "provenance": [],
      "authorship_tag": "ABX9TyO02nVPhhZAM5AoBrYCZ5Bc",
      "include_colab_link": true
    },
    "kernelspec": {
      "name": "python3",
      "display_name": "Python 3"
    },
    "language_info": {
      "name": "python"
    }
  },
  "cells": [
    {
      "cell_type": "markdown",
      "metadata": {
        "id": "view-in-github",
        "colab_type": "text"
      },
      "source": [
        "<a href=\"https://colab.research.google.com/github/BENMEZIAN/Pandas-tutorial/blob/main/Merge_Join_and_Concatenate_DataFrames.ipynb\" target=\"_parent\"><img src=\"https://colab.research.google.com/assets/colab-badge.svg\" alt=\"Open In Colab\"/></a>"
      ]
    },
    {
      "cell_type": "code",
      "execution_count": 1,
      "metadata": {
        "id": "geckfixpEV3z"
      },
      "outputs": [],
      "source": [
        "import pandas as pd"
      ]
    },
    {
      "cell_type": "code",
      "source": [
        "# Example dataframes\n",
        "df1 = pd.DataFrame({\n",
        "    'A': ['A0', 'A1', 'A2'],\n",
        "    'B': ['B0', 'B1', 'B2'],\n",
        "    'key': ['K0', 'K1', 'K2']\n",
        "})\n",
        "\n",
        "df2 = pd.DataFrame({\n",
        "    'C': ['C0', 'C1', 'C2'],\n",
        "    'D': ['D0', 'D1', 'D2'],\n",
        "    'key': ['K0', 'K1', 'K2']\n",
        "})\n",
        "\n",
        "# Merge based on the common column 'key'\n",
        "merged_df = pd.merge(df1, df2, how='inner', on='key')\n",
        "\n",
        "print(merged_df)"
      ],
      "metadata": {
        "colab": {
          "base_uri": "https://localhost:8080/"
        },
        "id": "1cRmMQywEh4O",
        "outputId": "00895569-359b-45c6-a89e-f201fb40b6c1"
      },
      "execution_count": 3,
      "outputs": [
        {
          "output_type": "stream",
          "name": "stdout",
          "text": [
            "    A   B key   C   D\n",
            "0  A0  B0  K0  C0  D0\n",
            "1  A1  B1  K1  C1  D1\n",
            "2  A2  B2  K2  C2  D2\n"
          ]
        }
      ]
    },
    {
      "cell_type": "markdown",
      "source": [
        "### Concat()"
      ],
      "metadata": {
        "id": "EVT7tBVuFFWx"
      }
    },
    {
      "cell_type": "code",
      "source": [
        "# prompt: Example of two real datasets to use join() function, ajouter axis=1 et axis=2\n",
        "\n",
        "import pandas as pd\n",
        "\n",
        "# Example DataFrames (replace with your actual datasets)\n",
        "data1 = {'Name': ['Alice', 'Bob', 'Charlie'],\n",
        "        'Age': [25, 30, 28],\n",
        "        'City': ['New York', 'London', 'Paris']}\n",
        "df1 = pd.DataFrame(data1)\n",
        "\n",
        "data2 = {'ID': [1, 2, 3],\n",
        "        'Salary': [50000, 60000, 70000],\n",
        "        'Department': ['Sales', 'Marketing', 'Engineering']}\n",
        "df2 = pd.DataFrame(data2)\n",
        "\n",
        "# Join along columns (axis=1)\n",
        "joined_df_columns = pd.concat([df1, df2], axis=1)\n",
        "print(\"Joined along columns:\\n\", joined_df_columns)\n",
        "\n",
        "# Demonstrating rows (axis=0)\n",
        "joined_df_rows = pd.concat([df1, df2], axis=0) # will likely cause issues due to mismatched columns\n",
        "print(\"\\nJoined along rows:\\n\", joined_df_rows)"
      ],
      "metadata": {
        "colab": {
          "base_uri": "https://localhost:8080/"
        },
        "id": "Bzom3GpkFI9e",
        "outputId": "fd1b632b-1e4e-4e34-a3e3-4ad4da77b3a5"
      },
      "execution_count": 8,
      "outputs": [
        {
          "output_type": "stream",
          "name": "stdout",
          "text": [
            "Joined along columns:\n",
            "       Name  Age      City  ID  Salary   Department\n",
            "0    Alice   25  New York   1   50000        Sales\n",
            "1      Bob   30    London   2   60000    Marketing\n",
            "2  Charlie   28     Paris   3   70000  Engineering\n",
            "\n",
            "Joined along rows:\n",
            "       Name   Age      City   ID   Salary   Department\n",
            "0    Alice  25.0  New York  NaN      NaN          NaN\n",
            "1      Bob  30.0    London  NaN      NaN          NaN\n",
            "2  Charlie  28.0     Paris  NaN      NaN          NaN\n",
            "0      NaN   NaN       NaN  1.0  50000.0        Sales\n",
            "1      NaN   NaN       NaN  2.0  60000.0    Marketing\n",
            "2      NaN   NaN       NaN  3.0  70000.0  Engineering\n"
          ]
        }
      ]
    },
    {
      "cell_type": "markdown",
      "source": [
        "### Join()"
      ],
      "metadata": {
        "id": "5mubbeuKF4AL"
      }
    },
    {
      "cell_type": "code",
      "source": [
        "# Example using join() method with a shared key (Note: this is different from pd.concat)\n",
        "\n",
        "# Create example DataFrames with a common key (e.g. Name)\n",
        "data3 = {'Name': ['Alice', 'Bob', 'David'],\n",
        "         'Score': [85, 92, 78]}\n",
        "df3 = pd.DataFrame(data3)\n",
        "\n",
        "data4 = {'Name': ['Alice', 'Bob', 'Eve'],\n",
        "        'Grade': ['A', 'B', 'C']}\n",
        "df4 = pd.DataFrame(data4)\n",
        "\n",
        "# Perform an inner join using the shared 'Name' column\n",
        "merged_df = df3.set_index('Name').join(df4.set_index('Name'), how='inner')\n",
        "print(\"\\nJoined using join() method (inner join):\\n\", merged_df)"
      ],
      "metadata": {
        "colab": {
          "base_uri": "https://localhost:8080/"
        },
        "id": "-h-IvekzF6I0",
        "outputId": "63d00b66-6b1a-4aa4-ac7d-6a00666fbbf6"
      },
      "execution_count": 11,
      "outputs": [
        {
          "output_type": "stream",
          "name": "stdout",
          "text": [
            "\n",
            "Joined using join() method (inner join):\n",
            "        Score Grade\n",
            "Name              \n",
            "Alice     85     A\n",
            "Bob       92     B\n"
          ]
        }
      ]
    },
    {
      "cell_type": "markdown",
      "source": [
        "### Resume"
      ],
      "metadata": {
        "id": "phacOTBrHT0u"
      }
    },
    {
      "cell_type": "code",
      "source": [
        "# prompt: Little resume of these topic of merging datasets\n",
        "\n",
        "# Resume of Dataset Merging Techniques in Pandas\n",
        "\n",
        "# 1. pd.merge():\n",
        "#    - Primarily used for joining datasets based on common columns (keys).\n",
        "#    - Offers various join types (inner, outer, left, right) to control how data is combined.\n",
        "#    - `how='inner'` keeps only rows with matching keys in both dataframes.\n",
        "#    - `how='outer'` keeps all rows from both dataframes, filling missing values with NaN.\n",
        "#    - `how='left'` keeps all rows from the left dataframe, adding matching rows from the right.\n",
        "#    - `how='right'` keeps all rows from the right dataframe, adding matching rows from the left.\n",
        "#    - Efficient for relational database-style joins.\n",
        "\n",
        "# 2. pd.concat():\n",
        "#    - Used to concatenate or append dataframes along either rows (axis=0) or columns (axis=1).\n",
        "#    - Simpler than merge; it stacks dataframes together.\n",
        "#    - Joining along columns (axis=1) adds columns from one dataframe to another.\n",
        "#    - Joining along rows (axis=0) appends rows, requiring careful attention to matching column names.\n",
        "#    - Useful when datasets share similar structure or when you need to combine datasets without a key column.\n",
        "\n",
        "# 3. DataFrame.join():\n",
        "#   - Similar to merge, but typically used when joining on index.\n",
        "#   - `set_index()` is used to specify a column as the index for joining.\n",
        "#   - Offers similar join types (`how`) as `pd.merge()`.\n",
        "#   - Useful for when you want to join on index or when indexes are already meaningful keys.\n",
        "\n",
        "\n",
        "# Choosing the Right Method:\n",
        "# - `pd.merge()` is best for relational joins where you have common columns or keys.\n",
        "# - `pd.concat()` is best for simple stacking or appending along rows or columns.\n",
        "# - `DataFrame.join()` is best when joining based on indexes or when indexes are your common keys.\n",
        "\n"
      ],
      "metadata": {
        "id": "ZqI4Q18QHWaN"
      },
      "execution_count": null,
      "outputs": []
    }
  ]
}