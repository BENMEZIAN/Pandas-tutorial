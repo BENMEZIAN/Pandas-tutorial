{
  "nbformat": 4,
  "nbformat_minor": 0,
  "metadata": {
    "colab": {
      "provenance": [],
      "authorship_tag": "ABX9TyMgeByCLA8/Nq6OPjShhRt0",
      "include_colab_link": true
    },
    "kernelspec": {
      "name": "python3",
      "display_name": "Python 3"
    },
    "language_info": {
      "name": "python"
    }
  },
  "cells": [
    {
      "cell_type": "markdown",
      "metadata": {
        "id": "view-in-github",
        "colab_type": "text"
      },
      "source": [
        "<a href=\"https://colab.research.google.com/github/BENMEZIAN/Pandas-tutorial/blob/main/Time_series_in_pandas.ipynb\" target=\"_parent\"><img src=\"https://colab.research.google.com/assets/colab-badge.svg\" alt=\"Open In Colab\"/></a>"
      ]
    },
    {
      "cell_type": "code",
      "execution_count": 7,
      "metadata": {
        "colab": {
          "base_uri": "https://localhost:8080/"
        },
        "collapsed": true,
        "id": "jjkmj0YGK5Hd",
        "outputId": "30f6619c-6c84-48ba-f570-6e7538f232e7"
      },
      "outputs": [
        {
          "output_type": "stream",
          "name": "stdout",
          "text": [
            "            value\n",
            "date             \n",
            "2025-01-01      0\n",
            "2025-01-02      1\n",
            "2025-01-03      2\n",
            "2025-01-04      3\n",
            "2025-01-05      4\n",
            "2025-01-06      5\n",
            "2025-01-07      6\n",
            "2025-01-08      7\n",
            "2025-01-09      8\n",
            "2025-01-10      9\n",
            "Sample with month :\n",
            "            value\n",
            "date             \n",
            "2025-01-31     45\n",
            "----------------------------\n",
            "Sample with day :\n",
            "            value\n",
            "date             \n",
            "2025-01-01      0\n",
            "2025-01-02      1\n",
            "2025-01-03      2\n",
            "2025-01-04      3\n",
            "2025-01-05      4\n",
            "2025-01-06      5\n",
            "2025-01-07      6\n",
            "2025-01-08      7\n",
            "2025-01-09      8\n",
            "2025-01-10      9\n",
            "----------------------------\n",
            "Sample with week :\n",
            "            value\n",
            "date             \n",
            "2025-01-05     10\n",
            "2025-01-12     35\n",
            "----------------------------\n",
            "Sample with year :\n",
            "            value\n",
            "date             \n",
            "2025-12-31     45\n",
            "----------------------------\n"
          ]
        }
      ],
      "source": [
        "import pandas as pd\n",
        "\n",
        "# Creating a time series using date_range\n",
        "date_range = pd.date_range(start='2025-01-01', end='2025-01-10', freq='D')\n",
        "#print(date_range)\n",
        "\n",
        "# Example dataframe with time series\n",
        "df = pd.DataFrame({\n",
        "    'date': date_range,\n",
        "    'value': range(10)\n",
        "})\n",
        "\n",
        "# Time series indexing\n",
        "df.set_index('date', inplace=True)\n",
        "\n",
        "#df.reset_index(inplace=True)\n",
        "\n",
        "print(df)\n",
        "\n",
        "# Convert date type column to datetime\n",
        "# df['date'] = pd.to_datetime(df['date'])\n",
        "\n",
        "df.dtypes\n",
        "\n",
        "# Resample to monthly frequency and calculate the sum of 'value'\n",
        "df_resampled_month = df.resample('ME').sum()  # 'M' stands for month-end frequency\n",
        "df_resampled_day = df.resample('D').sum()  # 'D' stands for daily frequency\n",
        "df_resampled_week = df.resample('W').sum()  # 'W' stands for weekly frequency\n",
        "df_resampled_year = df.resample('YE').sum()  # 'Y' stands for yearly frequency\n",
        "\n",
        "# print them\n",
        "print(\"Sample with month :\")\n",
        "print(df_resampled_month)\n",
        "print(\"----------------------------\")\n",
        "print(\"Sample with day :\")\n",
        "print(df_resampled_day)\n",
        "print(\"----------------------------\")\n",
        "print(\"Sample with week :\")\n",
        "print(df_resampled_week)\n",
        "print(\"----------------------------\")\n",
        "print(\"Sample with year :\")\n",
        "print(df_resampled_year)\n",
        "print(\"----------------------------\")\n"
      ]
    },
    {
      "cell_type": "markdown",
      "source": [],
      "metadata": {
        "id": "oWDm56OGoCZQ"
      }
    },
    {
      "cell_type": "code",
      "source": [
        "\"\"\"\n",
        "# prompt: Would you like to explain to me how the sampleing is performed ?\n",
        "\n",
        "The provided code uses pandas' `resample()` function to perform downsampling of a time series. Let's break down how the sampling is done for each frequency:\n",
        "\n",
        "**Understanding `resample()`**\n",
        "\n",
        "The `resample()` function groups data into specified time intervals (e.g., monthly, weekly, daily) and then applies a aggregation function (e.g., `sum()`, `mean()`, `max()`) to each group.  In this code, the aggregation function used is `sum()`.\n",
        "\n",
        "**Different Frequencies**\n",
        "\n",
        "1. **`'ME'` (Month End):**\n",
        "   - Groups the daily data into monthly buckets.  The 'ME' frequency groups data to the end of the month.\n",
        "   - `sum()` calculates the sum of the 'value' column for each month. Since the data only spans from January 1st to January 10th, the 'value' sum is performed only for the partial month of January.\n",
        "\n",
        "2. **`'D'` (Day):**\n",
        "   - The data is already daily, so 'D' doesn't change the granularity.  Essentially, it's a no-op operation concerning the sampling, because the original data is daily.\n",
        "   - `sum()` calculates the sum of the 'value' column for each *day*, which in this case, is just the original daily 'value'.\n",
        "\n",
        "3. **`'W'` (Week):**\n",
        "   - Groups the daily data into weekly buckets. The week starts on a Sunday by default.\n",
        "   - `sum()` calculates the sum of the 'value' column for each week.  The first week will include the values from 2025-01-01 to 2025-01-05(Sunday), and second week will include from 2025-01-06 to 2025-01-10.\n",
        "\n",
        "\n",
        "4. **`'YE'` (Year End):**\n",
        "   - Groups the daily data into yearly buckets.\n",
        "   - `sum()` calculates the sum of the 'value' column for the entire year.  Since the data is for a small period in January 2025, the sum will correspond to the entire dataset.\n",
        "\n",
        "\n",
        "**In summary:** The `resample()` function aggregates data according to specified time intervals and applies the specified aggregation function. The different frequency parameters (`'ME'`, `'D'`, `'W'`, `'YE'`) define how the data is grouped for aggregation.  Note that the aggregation operations (sum, mean etc) apply only to the `value` column.  The `date` acts as the index when determining which data points fall within which time intervals.\n",
        "\"\"\""
      ],
      "metadata": {
        "id": "pmD0qhfEP-jw"
      },
      "execution_count": null,
      "outputs": []
    },
    {
      "cell_type": "markdown",
      "source": [
        "### Get Day of Week, Week of Year and Leap Year"
      ],
      "metadata": {
        "id": "G1vd1j35oGVB"
      }
    },
    {
      "cell_type": "code",
      "source": [
        "import pandas as pd\n",
        "\n",
        "# create a dataframe with a datetime column\n",
        "df = pd.DataFrame({'datetime': ['2021-01-01', '2024-02-02', '2023-03-03']})\n",
        "\n",
        "# convert the 'datetime' column to datetime type\n",
        "df['datetime'] = pd.to_datetime(df['datetime'])\n",
        "\n",
        "# get the day of the week\n",
        "df['day_of_week'] = df['datetime'].dt.day_name()\n",
        "\n",
        "# get the week of the year\n",
        "df['week_of_year'] = df['datetime'].dt.isocalendar().week\n",
        "\n",
        "# check for leap year\n",
        "df['leap_year'] = df['datetime'].dt.is_leap_year\n",
        "\n",
        "print(df)"
      ],
      "metadata": {
        "colab": {
          "base_uri": "https://localhost:8080/"
        },
        "id": "OPER0At-oEb1",
        "outputId": "9d1122ec-d26d-438f-e930-ed64cfc9d042"
      },
      "execution_count": 13,
      "outputs": [
        {
          "output_type": "stream",
          "name": "stdout",
          "text": [
            "    datetime day_of_week  week_of_year  leap_year\n",
            "0 2021-01-01      Friday            53      False\n",
            "1 2024-02-02      Friday             5       True\n",
            "2 2023-03-03      Friday             9      False\n"
          ]
        }
      ]
    },
    {
      "cell_type": "code",
      "source": [
        "# Extracting components from the datetime index\n",
        "df['year'] = df.index.year\n",
        "df['month'] = df.index.month\n",
        "df['day'] = df.index.day\n",
        "print(df)"
      ],
      "metadata": {
        "colab": {
          "base_uri": "https://localhost:8080/"
        },
        "id": "K_zbP6mbS2QJ",
        "outputId": "c2f9f3d0-7715-418a-e27f-c393b5197409"
      },
      "execution_count": 8,
      "outputs": [
        {
          "output_type": "stream",
          "name": "stdout",
          "text": [
            "            value  year  month  day\n",
            "date                               \n",
            "2025-01-01      0  2025      1    1\n",
            "2025-01-02      1  2025      1    2\n",
            "2025-01-03      2  2025      1    3\n",
            "2025-01-04      3  2025      1    4\n",
            "2025-01-05      4  2025      1    5\n",
            "2025-01-06      5  2025      1    6\n",
            "2025-01-07      6  2025      1    7\n",
            "2025-01-08      7  2025      1    8\n",
            "2025-01-09      8  2025      1    9\n",
            "2025-01-10      9  2025      1   10\n"
          ]
        }
      ]
    },
    {
      "cell_type": "code",
      "source": [
        "# Create a time series with UTC time zone\n",
        "df_utc = df.copy()\n",
        "df_utc.index = df_utc.index.tz_localize('UTC')\n",
        "print(df_utc)\n",
        "\n",
        "# Convert to a different time zone (e.g., 'US/Eastern')\n",
        "df_eastern = df_utc.copy()\n",
        "df_eastern.index = df_eastern.index.tz_convert('US/Eastern')\n",
        "print(df_eastern)"
      ],
      "metadata": {
        "colab": {
          "base_uri": "https://localhost:8080/"
        },
        "id": "hKjVbwBDTIS4",
        "outputId": "3dccb7a8-f183-4b36-9f57-0513cf9d1e1b"
      },
      "execution_count": 10,
      "outputs": [
        {
          "output_type": "stream",
          "name": "stdout",
          "text": [
            "                           value  year  month  day\n",
            "date                                              \n",
            "2025-01-01 00:00:00+00:00      0  2025      1    1\n",
            "2025-01-02 00:00:00+00:00      1  2025      1    2\n",
            "2025-01-03 00:00:00+00:00      2  2025      1    3\n",
            "2025-01-04 00:00:00+00:00      3  2025      1    4\n",
            "2025-01-05 00:00:00+00:00      4  2025      1    5\n",
            "2025-01-06 00:00:00+00:00      5  2025      1    6\n",
            "2025-01-07 00:00:00+00:00      6  2025      1    7\n",
            "2025-01-08 00:00:00+00:00      7  2025      1    8\n",
            "2025-01-09 00:00:00+00:00      8  2025      1    9\n",
            "2025-01-10 00:00:00+00:00      9  2025      1   10\n",
            "                           value  year  month  day\n",
            "date                                              \n",
            "2024-12-31 19:00:00-05:00      0  2025      1    1\n",
            "2025-01-01 19:00:00-05:00      1  2025      1    2\n",
            "2025-01-02 19:00:00-05:00      2  2025      1    3\n",
            "2025-01-03 19:00:00-05:00      3  2025      1    4\n",
            "2025-01-04 19:00:00-05:00      4  2025      1    5\n",
            "2025-01-05 19:00:00-05:00      5  2025      1    6\n",
            "2025-01-06 19:00:00-05:00      6  2025      1    7\n",
            "2025-01-07 19:00:00-05:00      7  2025      1    8\n",
            "2025-01-08 19:00:00-05:00      8  2025      1    9\n",
            "2025-01-09 19:00:00-05:00      9  2025      1   10\n"
          ]
        }
      ]
    },
    {
      "cell_type": "code",
      "source": [
        "# Handling Missing Data\n",
        "# Creating a dataframe with missing values\n",
        "date_range = pd.date_range(start='2025-01-01', end='2025-01-10', freq='D')\n",
        "df = pd.DataFrame({\n",
        "    'date': date_range,\n",
        "    'value': [10, None, 30, None, 50, None, 70, None, 90, 100]\n",
        "})\n",
        "df.set_index('date', inplace=True)\n",
        "\n",
        "# Forward fill to replace missing values\n",
        "df_filled = df.fillna(method='ffill')\n",
        "print(df_filled)\n",
        "\n",
        "# Interpolation to fill missing values\n",
        "df_interpolated = df.interpolate()\n",
        "print(df_interpolated)"
      ],
      "metadata": {
        "colab": {
          "base_uri": "https://localhost:8080/"
        },
        "id": "pF82Q4WBTQsz",
        "outputId": "91bf83fe-6d2b-4fa2-a601-71621279121c"
      },
      "execution_count": 11,
      "outputs": [
        {
          "output_type": "stream",
          "name": "stdout",
          "text": [
            "            value\n",
            "date             \n",
            "2025-01-01   10.0\n",
            "2025-01-02   10.0\n",
            "2025-01-03   30.0\n",
            "2025-01-04   30.0\n",
            "2025-01-05   50.0\n",
            "2025-01-06   50.0\n",
            "2025-01-07   70.0\n",
            "2025-01-08   70.0\n",
            "2025-01-09   90.0\n",
            "2025-01-10  100.0\n",
            "            value\n",
            "date             \n",
            "2025-01-01   10.0\n",
            "2025-01-02   20.0\n",
            "2025-01-03   30.0\n",
            "2025-01-04   40.0\n",
            "2025-01-05   50.0\n",
            "2025-01-06   60.0\n",
            "2025-01-07   70.0\n",
            "2025-01-08   80.0\n",
            "2025-01-09   90.0\n",
            "2025-01-10  100.0\n"
          ]
        },
        {
          "output_type": "stream",
          "name": "stderr",
          "text": [
            "<ipython-input-11-c11a4eafddc5>:11: FutureWarning: DataFrame.fillna with 'method' is deprecated and will raise in a future version. Use obj.ffill() or obj.bfill() instead.\n",
            "  df_filled = df.fillna(method='ffill')\n"
          ]
        }
      ]
    }
  ]
}