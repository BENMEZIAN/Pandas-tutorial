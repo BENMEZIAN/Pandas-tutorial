{
  "nbformat": 4,
  "nbformat_minor": 0,
  "metadata": {
    "colab": {
      "provenance": [],
      "authorship_tag": "ABX9TyOJU7yr/TfvEsE+mgJY0vC3",
      "include_colab_link": true
    },
    "kernelspec": {
      "name": "python3",
      "display_name": "Python 3"
    },
    "language_info": {
      "name": "python"
    }
  },
  "cells": [
    {
      "cell_type": "markdown",
      "metadata": {
        "id": "view-in-github",
        "colab_type": "text"
      },
      "source": [
        "<a href=\"https://colab.research.google.com/github/BENMEZIAN/Pandas-tutorial/blob/main/How_to_convert_Datatypes_in_Pandas.ipynb\" target=\"_parent\"><img src=\"https://colab.research.google.com/assets/colab-badge.svg\" alt=\"Open In Colab\"/></a>"
      ]
    },
    {
      "cell_type": "code",
      "execution_count": 17,
      "metadata": {
        "colab": {
          "base_uri": "https://localhost:8080/"
        },
        "collapsed": true,
        "id": "9TuAEj1ldBwp",
        "outputId": "9a35036a-ce41-43e8-c63e-566d167e12cc"
      },
      "outputs": [
        {
          "output_type": "stream",
          "name": "stdout",
          "text": [
            "Firstname    object\n",
            "Class         int64\n",
            "Subject      object\n",
            "Score         int64\n",
            "Grade        object\n",
            "dtype: object\n"
          ]
        }
      ],
      "source": [
        "import pandas as pd\n",
        "import numpy as np\n",
        "\n",
        "data = {\n",
        "    'Firstname': ['Alice', 'Bob', 'Charlie', 'David', 'Eve', 'Alice', 'Bob', 'Charlie', 'David', 'Eve', 'Alice', 'Bob', 'Charlie', 'David', 'Eve', 'Frank', 'Grace'],\n",
        "    'Class': [10, 11, 10, 12, 11, 10, 11, 10, 12, 11, 10, 11, 10, 12, 11, 10, 12],\n",
        "    'Subject': ['Math', 'Science', 'English', 'Math', 'Science', 'Physics', 'Science', 'English', 'Math', 'Science','Science', 'Science', 'English', 'Math', 'Science', 'History', 'Physics'],\n",
        "    'Score': [85, 92, 78, 88, 95, 80, 90, 82, 89, 93, 75, 87, 91, 94, 90, 79, 86],\n",
        "    'Grade': ['A', 'A', 'B', 'A', 'A', 'B', 'A', 'B', 'A', 'A', 'B', 'A', 'A', 'A', 'A', 'B', 'A']\n",
        "}\n",
        "\n",
        "df = pd.DataFrame(data)\n",
        "df\n",
        "\n",
        "print(df.dtypes)\n",
        "\n",
        "# No need to convert type here, all things is right"
      ]
    },
    {
      "cell_type": "code",
      "source": [
        "# Method 1: using astype() function\n",
        "import pandas as pd\n",
        "\n",
        "# Sample data\n",
        "data = {\n",
        "    'Age': ['23', '34', '45', '56'],\n",
        "    'Salary': ['1000', '2000', '3000', '4000']\n",
        "}\n",
        "\n",
        "df = pd.DataFrame(data)\n",
        "import pandas as pd\n",
        "\n",
        "# Create and print DataFrame\n",
        "df = pd.DataFrame({\n",
        "   'A': ['1', '2', '3'],\n",
        "   'B': ['4', '5', '6'],\n",
        "   'C': ['7', '8', '9']\n",
        "})\n",
        "\n",
        "print(df)\n",
        "\n",
        "df.dtypes # Print data types of each column in DataFrame\n",
        "\n",
        "# Change column A's values to floats\n",
        "df['A'] = df['A'].astype(float)\n",
        "\n",
        "# Change column B and C's values to integers\n",
        "df = df.astype({'B': int, 'C': int})\n",
        "\n",
        "print(\"\\nConverted:\\n\")\n",
        "\n",
        "print(df) # Print altered DataFrame\n",
        "print(\"\\n\")\n",
        "print(df.dtypes) # Print data types of each column in DataFrame"
      ],
      "metadata": {
        "colab": {
          "base_uri": "https://localhost:8080/"
        },
        "collapsed": true,
        "id": "MG6N9WXqd2vX",
        "outputId": "73895200-6a04-4537-e02f-0aa37dbabb7e"
      },
      "execution_count": 8,
      "outputs": [
        {
          "output_type": "stream",
          "name": "stdout",
          "text": [
            "   A  B  C\n",
            "0  1  4  7\n",
            "1  2  5  8\n",
            "2  3  6  9\n",
            "\n",
            "Converted:\n",
            "\n",
            "     A  B  C\n",
            "0  1.0  4  7\n",
            "1  2.0  5  8\n",
            "2  3.0  6  9\n",
            "\n",
            "\n",
            "A    float64\n",
            "B      int64\n",
            "C      int64\n",
            "dtype: object\n"
          ]
        }
      ]
    },
    {
      "cell_type": "code",
      "source": [
        "# Method 2: using df.to_numeric\n",
        "import pandas as pd\n",
        "\n",
        "# Create and print DataFrame\n",
        "df = pd.DataFrame({\n",
        "   'A': ['1', '2', '3'],\n",
        "   'B': ['4.0', '5.1', '6.2'],\n",
        "   'C': ['7', '8', '9']\n",
        "})\n",
        "print(df)\n",
        "\n",
        "# Print data types of each column in DataFrame\n",
        "print(\"\\n\")\n",
        "print(df.dtypes)\n",
        "\n",
        "# Change column A's values to a numeric type\n",
        "df['A'] = pd.to_numeric(df['A'])\n",
        "# Change column B and C's values to a numeric type\n",
        "df[['B', 'C']] = df[['B', 'C']].apply(pd.to_numeric)\n",
        "\n",
        "print(\"\\nConverted:\\n\")\n",
        "\n",
        "# Print altered DataFrame\n",
        "print(df)\n",
        "# Print data types of each column in DataFrame\n",
        "print(\"\\n\")\n",
        "print(df.dtypes)"
      ],
      "metadata": {
        "colab": {
          "base_uri": "https://localhost:8080/"
        },
        "collapsed": true,
        "id": "sooheWBCeaa8",
        "outputId": "622d0049-623b-4e50-e4cf-3dc0b22e1bdd"
      },
      "execution_count": 18,
      "outputs": [
        {
          "output_type": "stream",
          "name": "stdout",
          "text": [
            "   A    B  C\n",
            "0  1  4.0  7\n",
            "1  2  5.1  8\n",
            "2  3  6.2  9\n",
            "\n",
            "\n",
            "A    object\n",
            "B    object\n",
            "C    object\n",
            "dtype: object\n",
            "\n",
            "Converted:\n",
            "\n",
            "   A    B  C\n",
            "0  1  4.0  7\n",
            "1  2  5.1  8\n",
            "2  3  6.2  9\n",
            "\n",
            "\n",
            "A      int64\n",
            "B    float64\n",
            "C      int64\n",
            "dtype: object\n"
          ]
        }
      ]
    },
    {
      "cell_type": "code",
      "source": [
        "# Method 3 : using convert_dtype() to apropriate type\n",
        "import pandas as pd\n",
        "\n",
        "# Create and print DataFrame\n",
        "df = pd.DataFrame({\n",
        "   'A': [1.0, 2.0, 5.3],\n",
        "   'B': ['z', 'x', 'c'],\n",
        "   'C': [7, 8, 4],\n",
        "   'D': ['1', '2', '3']\n",
        "})\n",
        "print(df)\n",
        "\n",
        "# Print data types of each column in DataFrame\n",
        "print(\"\\n\")\n",
        "print(df.dtypes)\n",
        "\n",
        "# Change all columns to the appropriate types\n",
        "df = df.convert_dtypes()\n",
        "\n",
        "print(\"\\nConverted:\\n\")\n",
        "\n",
        "# Print altered DataFrame\n",
        "print(df)\n",
        "# Print data types of each column in DataFrame\n",
        "print(\"\\n\")\n",
        "print(df.dtypes)"
      ],
      "metadata": {
        "colab": {
          "base_uri": "https://localhost:8080/"
        },
        "collapsed": true,
        "id": "fCGjV2KkfLT_",
        "outputId": "7c06a92b-d2dc-4d1f-d9c0-d7656dd03807"
      },
      "execution_count": 10,
      "outputs": [
        {
          "output_type": "stream",
          "name": "stdout",
          "text": [
            "     A  B  C  D\n",
            "0  1.0  z  7  1\n",
            "1  2.0  x  8  2\n",
            "2  5.3  c  4  3\n",
            "\n",
            "\n",
            "A    float64\n",
            "B     object\n",
            "C      int64\n",
            "D     object\n",
            "dtype: object\n",
            "\n",
            "Converted:\n",
            "\n",
            "     A  B  C  D\n",
            "0  1.0  z  7  1\n",
            "1  2.0  x  8  2\n",
            "2  5.3  c  4  3\n",
            "\n",
            "\n",
            "A           Float64\n",
            "B    string[python]\n",
            "C             Int64\n",
            "D    string[python]\n",
            "dtype: object\n"
          ]
        }
      ]
    },
    {
      "cell_type": "code",
      "source": [
        "# Sample data with date strings\n",
        "data = {\n",
        "    'date_str': ['2025-01-01', '2025-02-02', '2025-03-03']\n",
        "}\n",
        "\n",
        "df = pd.DataFrame(data)\n",
        "\n",
        "print(df.dtypes)\n",
        "\n",
        "# Convert 'date_str' column to datetime\n",
        "df['date'] = pd.to_datetime(df['date_str'])\n",
        "\n",
        "print(df.dtypes)\n"
      ],
      "metadata": {
        "colab": {
          "base_uri": "https://localhost:8080/"
        },
        "collapsed": true,
        "id": "KXtXnsUqgU33",
        "outputId": "cbab800f-2f72-4e3a-8d10-455eaa9c2f85"
      },
      "execution_count": 16,
      "outputs": [
        {
          "output_type": "stream",
          "name": "stdout",
          "text": [
            "date_str    object\n",
            "dtype: object\n",
            "date_str            object\n",
            "date        datetime64[ns]\n",
            "dtype: object\n"
          ]
        }
      ]
    },
    {
      "cell_type": "code",
      "source": [
        "#####################################################################################\n",
        "#Summary of Data Type Conversion Methods:\n",
        "# astype(): Use this to convert a single column or multiple columns to a specific data type (e.g., int, float, str, category).\n",
        "# pd.to_numeric(): Use this to convert a column to numeric types (integer or float) and handle errors.\n",
        "# pd.to_datetime(): Use this to convert a column of date strings into datetime objects.\n",
        "# pd.convert_dtype() : Use this to convert a column to apropriate type\n",
        "#####################################################################################"
      ],
      "metadata": {
        "id": "ExrPoPHkfnUX"
      },
      "execution_count": 13,
      "outputs": []
    }
  ]
}